{
 "cells": [
  {
   "cell_type": "code",
   "execution_count": 1,
   "id": "1e36a8b3",
   "metadata": {
    "scrolled": true
   },
   "outputs": [
    {
     "name": "stdout",
     "output_type": "stream",
     "text": [
      "Requirement already satisfied: opencv-python-headless in c:\\users\\rasagna\\anaconda3\\lib\\site-packages (4.9.0.80)\n",
      "Requirement already satisfied: numpy>=1.21.2 in c:\\users\\rasagna\\anaconda3\\lib\\site-packages (from opencv-python-headless) (1.23.5)\n"
     ]
    }
   ],
   "source": [
    "\n",
    "!pip install opencv-python-headless\n"
   ]
  },
  {
   "cell_type": "code",
   "execution_count": 2,
   "id": "fac7d7ab",
   "metadata": {},
   "outputs": [
    {
     "name": "stdout",
     "output_type": "stream",
     "text": [
      "WARNING:tensorflow:From C:\\Users\\Rasagna\\anaconda3\\lib\\site-packages\\keras\\src\\losses.py:2976: The name tf.losses.sparse_softmax_cross_entropy is deprecated. Please use tf.compat.v1.losses.sparse_softmax_cross_entropy instead.\n",
      "\n"
     ]
    }
   ],
   "source": [
    "import numpy as np\n",
    "import matplotlib.pyplot as plt\n",
    "import os\n",
    "import cv2\n",
    "import tensorflow as tf\n",
    "from PIL import Image\n",
    "from sklearn.model_selection import train_test_split\n",
    "from keras.utils import normalize, to_categorical\n",
    "from keras.models import Sequential, load_model\n",
    "from keras.layers import Conv2D\n",
    "from keras.layers import  MaxPooling2D\n",
    "from keras.layers import  Activation\n",
    "from keras.layers import Dropout\n",
    "from keras.layers import Flatten\n",
    "from keras.layers import Dense"
   ]
  },
  {
   "cell_type": "code",
   "execution_count": null,
   "id": "c598b8d7",
   "metadata": {
    "scrolled": true
   },
   "outputs": [],
   "source": []
  },
  {
   "cell_type": "code",
   "execution_count": 3,
   "id": "792635e3",
   "metadata": {},
   "outputs": [
    {
     "name": "stdout",
     "output_type": "stream",
     "text": [
      "No Tumor:  1500\n",
      "Tumor:  1500\n"
     ]
    }
   ],
   "source": [
    "image_directory = 'C:\\\\Users\\\\Rasagna\\\\Downloads\\\\Brain CNN'\n",
    "\n",
    "no_tumor_images=os.listdir(image_directory+ '/no')\n",
    "yes_tumor_images=os.listdir(image_directory+ '/yes')\n",
    "\n",
    "print('No Tumor: ', len(no_tumor_images))\n",
    "print('Tumor: ',len(yes_tumor_images))"
   ]
  },
  {
   "cell_type": "code",
   "execution_count": 4,
   "id": "8cbe6015",
   "metadata": {},
   "outputs": [],
   "source": [
    "dataset = []\n",
    "label = []\n",
    "INPUT_SIZE = 128"
   ]
  },
  {
   "cell_type": "code",
   "execution_count": 5,
   "id": "40bef9f5",
   "metadata": {},
   "outputs": [
    {
     "name": "stdout",
     "output_type": "stream",
     "text": [
      "C:\\Users\\Rasagna\\Downloads\\Brain CNN\\no\\no0.jpg\n"
     ]
    }
   ],
   "source": [
    "c=1\n",
    "for i, image_name in enumerate(no_tumor_images):\n",
    "    if image_name.split('.')[-1].lower() == 'jpg':\n",
    "        image_path = os.path.join(image_directory, 'no', image_name)\n",
    "        if(c==1):\n",
    "            print(image_path)\n",
    "            c=10\n",
    "        image = cv2.imread(image_path)\n",
    "\n",
    "        if image is None:\n",
    "            print(f\"Error loading image: {image_path}\")\n",
    "            continue  # Skip to the next image\n",
    "\n",
    "        image = Image.fromarray(image, 'RGB')\n",
    "        image = image.resize((INPUT_SIZE, INPUT_SIZE))\n",
    "        dataset.append(np.array(image))\n",
    "        label.append(0)  # Assuming 0 represents images without tumors"
   ]
  },
  {
   "cell_type": "code",
   "execution_count": 6,
   "id": "64edf94c",
   "metadata": {},
   "outputs": [],
   "source": [
    "c=10\n",
    "for i,image_name in enumerate(yes_tumor_images):\n",
    "    if  image_name.split('.')[-1].lower() == 'jpg':\n",
    "        image_path = os.path.join(image_directory, 'yes', image_name)\n",
    "        if(c==1):\n",
    "            print(image_path)\n",
    "            c-=1\n",
    "        image = cv2.imread(image_path)\n",
    "        \n",
    "        if image is None:\n",
    "            print(f\"Error loading image: {image_path}\")\n",
    "            continue  # Skip to the next image\n",
    "\n",
    "        image = Image.fromarray(image, 'RGB')\n",
    "        image = image.resize((INPUT_SIZE, INPUT_SIZE))\n",
    "        dataset.append(np.array(image))\n",
    "        label.append(1)"
   ]
  },
  {
   "cell_type": "code",
   "execution_count": 7,
   "id": "7a78bfe6",
   "metadata": {},
   "outputs": [
    {
     "name": "stdout",
     "output_type": "stream",
     "text": [
      "3000\n",
      "3000\n"
     ]
    }
   ],
   "source": [
    "print(len(dataset))\n",
    "print(len(label))"
   ]
  },
  {
   "cell_type": "code",
   "execution_count": 8,
   "id": "46c89bbd",
   "metadata": {},
   "outputs": [],
   "source": [
    "dataset=np.array(dataset)\n",
    "label=np.array(label)"
   ]
  },
  {
   "cell_type": "code",
   "execution_count": 9,
   "id": "3df01ee4",
   "metadata": {},
   "outputs": [
    {
     "name": "stdout",
     "output_type": "stream",
     "text": [
      "train test split completed\n"
     ]
    }
   ],
   "source": [
    "x_train,x_test,y_train,y_test= train_test_split(dataset, label, test_size = 0.2, random_state = 42)\n",
    "print(\"train test split completed\")"
   ]
  },
  {
   "cell_type": "code",
   "execution_count": 10,
   "id": "d8242358",
   "metadata": {},
   "outputs": [
    {
     "name": "stdout",
     "output_type": "stream",
     "text": [
      "(2400, 128, 128, 3)\n",
      "(2400,)\n",
      "(600, 128, 128, 3)\n",
      "(600,)\n"
     ]
    }
   ],
   "source": [
    "print(x_train.shape) \n",
    "print(y_train.shape) \n",
    "print(x_test.shape)\n",
    "print(y_test.shape)"
   ]
  },
  {
   "cell_type": "code",
   "execution_count": 11,
   "id": "4aab13d6",
   "metadata": {},
   "outputs": [],
   "source": [
    "x_train = normalize( x_train, axis =1)\n",
    "x_test = normalize( x_test, axis =1)"
   ]
  },
  {
   "cell_type": "code",
   "execution_count": 12,
   "id": "5af2a787",
   "metadata": {},
   "outputs": [
    {
     "name": "stdout",
     "output_type": "stream",
     "text": [
      "WARNING:tensorflow:From C:\\Users\\Rasagna\\anaconda3\\lib\\site-packages\\keras\\src\\backend.py:873: The name tf.get_default_graph is deprecated. Please use tf.compat.v1.get_default_graph instead.\n",
      "\n",
      "WARNING:tensorflow:From C:\\Users\\Rasagna\\anaconda3\\lib\\site-packages\\keras\\src\\layers\\pooling\\max_pooling2d.py:161: The name tf.nn.max_pool is deprecated. Please use tf.nn.max_pool2d instead.\n",
      "\n"
     ]
    }
   ],
   "source": [
    "model = Sequential()\n",
    "model.add(Conv2D(64, (3,3), input_shape=(INPUT_SIZE, INPUT_SIZE, 3)))\n",
    "model.add(Activation('relu'))\n",
    "model.add(MaxPooling2D(pool_size=(2,2)))\n",
    "\n",
    "model.add(Conv2D(64, (3,3), kernel_initializer='he_uniform'))\n",
    "model.add(Activation('relu'))\n",
    "model.add(MaxPooling2D(pool_size=(2,2)))\n",
    "\n",
    "model.add(Conv2D(128, (3,3), kernel_initializer='he_uniform'))\n",
    "model.add(Activation('relu'))\n",
    "model.add(MaxPooling2D(pool_size=(2,2)))"
   ]
  },
  {
   "cell_type": "code",
   "execution_count": 13,
   "id": "fc861284",
   "metadata": {},
   "outputs": [],
   "source": [
    "model.add(Flatten())\n",
    "model.add(Dense(64))\n",
    "model.add(Activation('relu'))\n",
    "model.add(Dropout(0.5))\n",
    "model.add(Dense(1))\n",
    "#model.add(Dense(2))\n",
    "model.add(Activation('sigmoid'))"
   ]
  },
  {
   "cell_type": "code",
   "execution_count": 14,
   "id": "9a187c5f",
   "metadata": {},
   "outputs": [
    {
     "name": "stdout",
     "output_type": "stream",
     "text": [
      "Model: \"sequential\"\n",
      "_________________________________________________________________\n",
      " Layer (type)                Output Shape              Param #   \n",
      "=================================================================\n",
      " conv2d (Conv2D)             (None, 126, 126, 64)      1792      \n",
      "                                                                 \n",
      " activation (Activation)     (None, 126, 126, 64)      0         \n",
      "                                                                 \n",
      " max_pooling2d (MaxPooling2  (None, 63, 63, 64)        0         \n",
      " D)                                                              \n",
      "                                                                 \n",
      " conv2d_1 (Conv2D)           (None, 61, 61, 64)        36928     \n",
      "                                                                 \n",
      " activation_1 (Activation)   (None, 61, 61, 64)        0         \n",
      "                                                                 \n",
      " max_pooling2d_1 (MaxPoolin  (None, 30, 30, 64)        0         \n",
      " g2D)                                                            \n",
      "                                                                 \n",
      " conv2d_2 (Conv2D)           (None, 28, 28, 128)       73856     \n",
      "                                                                 \n",
      " activation_2 (Activation)   (None, 28, 28, 128)       0         \n",
      "                                                                 \n",
      " max_pooling2d_2 (MaxPoolin  (None, 14, 14, 128)       0         \n",
      " g2D)                                                            \n",
      "                                                                 \n",
      " flatten (Flatten)           (None, 25088)             0         \n",
      "                                                                 \n",
      " dense (Dense)               (None, 64)                1605696   \n",
      "                                                                 \n",
      " activation_3 (Activation)   (None, 64)                0         \n",
      "                                                                 \n",
      " dropout (Dropout)           (None, 64)                0         \n",
      "                                                                 \n",
      " dense_1 (Dense)             (None, 1)                 65        \n",
      "                                                                 \n",
      " activation_4 (Activation)   (None, 1)                 0         \n",
      "                                                                 \n",
      "=================================================================\n",
      "Total params: 1718337 (6.55 MB)\n",
      "Trainable params: 1718337 (6.55 MB)\n",
      "Non-trainable params: 0 (0.00 Byte)\n",
      "_________________________________________________________________\n"
     ]
    }
   ],
   "source": [
    "model.summary()"
   ]
  },
  {
   "cell_type": "code",
   "execution_count": null,
   "id": "959b92ec",
   "metadata": {},
   "outputs": [],
   "source": []
  },
  {
   "cell_type": "code",
   "execution_count": null,
   "id": "e8daef46",
   "metadata": {},
   "outputs": [],
   "source": []
  },
  {
   "cell_type": "code",
   "execution_count": 15,
   "id": "50defb40",
   "metadata": {},
   "outputs": [
    {
     "name": "stdout",
     "output_type": "stream",
     "text": [
      "WARNING:tensorflow:From C:\\Users\\Rasagna\\anaconda3\\lib\\site-packages\\keras\\src\\optimizers\\__init__.py:309: The name tf.train.Optimizer is deprecated. Please use tf.compat.v1.train.Optimizer instead.\n",
      "\n"
     ]
    }
   ],
   "source": [
    "model.compile(loss='binary_crossentropy',optimizer='adam',metrics=['accuracy'])"
   ]
  },
  {
   "cell_type": "code",
   "execution_count": 16,
   "id": "5d020c18",
   "metadata": {},
   "outputs": [
    {
     "name": "stdout",
     "output_type": "stream",
     "text": [
      "Epoch 1/9\n",
      "WARNING:tensorflow:From C:\\Users\\Rasagna\\anaconda3\\lib\\site-packages\\keras\\src\\utils\\tf_utils.py:492: The name tf.ragged.RaggedTensorValue is deprecated. Please use tf.compat.v1.ragged.RaggedTensorValue instead.\n",
      "\n",
      "WARNING:tensorflow:From C:\\Users\\Rasagna\\anaconda3\\lib\\site-packages\\keras\\src\\engine\\base_layer_utils.py:384: The name tf.executing_eagerly_outside_functions is deprecated. Please use tf.compat.v1.executing_eagerly_outside_functions instead.\n",
      "\n",
      "150/150 [==============================] - 44s 268ms/step - loss: 0.5185 - accuracy: 0.7475 - val_loss: 0.3814 - val_accuracy: 0.8383\n",
      "Epoch 2/9\n",
      "150/150 [==============================] - 38s 254ms/step - loss: 0.3414 - accuracy: 0.8537 - val_loss: 0.2456 - val_accuracy: 0.8950\n",
      "Epoch 3/9\n",
      "150/150 [==============================] - 38s 252ms/step - loss: 0.1999 - accuracy: 0.9196 - val_loss: 0.1898 - val_accuracy: 0.9267\n",
      "Epoch 4/9\n",
      "150/150 [==============================] - 38s 253ms/step - loss: 0.1165 - accuracy: 0.9621 - val_loss: 0.1097 - val_accuracy: 0.9683\n",
      "Epoch 5/9\n",
      "150/150 [==============================] - 38s 256ms/step - loss: 0.0630 - accuracy: 0.9817 - val_loss: 0.1063 - val_accuracy: 0.9717\n",
      "Epoch 6/9\n",
      "150/150 [==============================] - 38s 253ms/step - loss: 0.0566 - accuracy: 0.9804 - val_loss: 0.0842 - val_accuracy: 0.9783\n",
      "Epoch 7/9\n",
      "150/150 [==============================] - 38s 254ms/step - loss: 0.0325 - accuracy: 0.9892 - val_loss: 0.1387 - val_accuracy: 0.9683\n",
      "Epoch 8/9\n",
      "150/150 [==============================] - 38s 253ms/step - loss: 0.0454 - accuracy: 0.9837 - val_loss: 0.1124 - val_accuracy: 0.9767\n",
      "Epoch 9/9\n",
      "150/150 [==============================] - 38s 254ms/step - loss: 0.0194 - accuracy: 0.9929 - val_loss: 0.1200 - val_accuracy: 0.9800\n"
     ]
    },
    {
     "data": {
      "text/plain": [
       "<keras.src.callbacks.History at 0x1f255af5900>"
      ]
     },
     "execution_count": 16,
     "metadata": {},
     "output_type": "execute_result"
    }
   ],
   "source": [
    "model.fit(x_train, y_train, \n",
    "batch_size = 16, \n",
    "verbose = 1, epochs = 9, \n",
    "validation_data = (x_test, y_test),\n",
    "shuffle = 'False')"
   ]
  },
  {
   "cell_type": "code",
   "execution_count": 17,
   "id": "0f1a4369",
   "metadata": {},
   "outputs": [
    {
     "name": "stdout",
     "output_type": "stream",
     "text": [
      "INFO:tensorflow:Assets written to: Brain Tumor detection.g9\\assets\n"
     ]
    },
    {
     "name": "stderr",
     "output_type": "stream",
     "text": [
      "INFO:tensorflow:Assets written to: Brain Tumor detection.g9\\assets\n"
     ]
    }
   ],
   "source": [
    "model.save('Brain Tumor detection.g9')"
   ]
  },
  {
   "cell_type": "code",
   "execution_count": 18,
   "id": "0fdcefc1",
   "metadata": {},
   "outputs": [
    {
     "name": "stdout",
     "output_type": "stream",
     "text": [
      "WARNING:tensorflow:From C:\\Users\\Rasagna\\anaconda3\\lib\\site-packages\\keras\\src\\saving\\legacy\\saved_model\\load.py:107: The name tf.gfile.Exists is deprecated. Please use tf.io.gfile.exists instead.\n",
      "\n"
     ]
    },
    {
     "name": "stderr",
     "output_type": "stream",
     "text": [
      "WARNING:tensorflow:From C:\\Users\\Rasagna\\anaconda3\\lib\\site-packages\\keras\\src\\saving\\legacy\\saved_model\\load.py:107: The name tf.gfile.Exists is deprecated. Please use tf.io.gfile.exists instead.\n",
      "\n"
     ]
    }
   ],
   "source": [
    "from keras.models import load_model \n",
    "model = load_model('Brain Tumor detection.g9')"
   ]
  },
  {
   "cell_type": "code",
   "execution_count": 19,
   "id": "1cb225e3",
   "metadata": {},
   "outputs": [
    {
     "name": "stdout",
     "output_type": "stream",
     "text": [
      "Test loss: 0.12003958225250244\n",
      "Test accuracy: 98.00000190734863 %\n"
     ]
    }
   ],
   "source": [
    "score = model.evaluate(x_test, y_test, verbose=0)\n",
    "print(\"Test loss:\", score[0])\n",
    "print(\"Test accuracy:\", score[1]*100,\"%\")"
   ]
  },
  {
   "cell_type": "code",
   "execution_count": 21,
   "id": "3de8ab78",
   "metadata": {},
   "outputs": [
    {
     "name": "stdout",
     "output_type": "stream",
     "text": [
      "[[[0 0 0]\n",
      "  [0 0 0]\n",
      "  [0 0 0]\n",
      "  ...\n",
      "  [0 0 0]\n",
      "  [0 0 0]\n",
      "  [0 0 0]]\n",
      "\n",
      " [[0 0 0]\n",
      "  [0 0 0]\n",
      "  [0 0 0]\n",
      "  ...\n",
      "  [0 0 0]\n",
      "  [0 0 0]\n",
      "  [0 0 0]]\n",
      "\n",
      " [[0 0 0]\n",
      "  [0 0 0]\n",
      "  [0 0 0]\n",
      "  ...\n",
      "  [0 0 0]\n",
      "  [0 0 0]\n",
      "  [0 0 0]]\n",
      "\n",
      " ...\n",
      "\n",
      " [[0 0 0]\n",
      "  [0 0 0]\n",
      "  [0 0 0]\n",
      "  ...\n",
      "  [0 0 0]\n",
      "  [0 0 0]\n",
      "  [0 0 0]]\n",
      "\n",
      " [[0 0 0]\n",
      "  [0 0 0]\n",
      "  [0 0 0]\n",
      "  ...\n",
      "  [0 0 0]\n",
      "  [0 0 0]\n",
      "  [0 0 0]]\n",
      "\n",
      " [[0 0 0]\n",
      "  [0 0 0]\n",
      "  [0 0 0]\n",
      "  ...\n",
      "  [0 0 0]\n",
      "  [0 0 0]\n",
      "  [0 0 0]]]\n"
     ]
    }
   ],
   "source": [
    "image = cv2.imread(r'C:\\Users\\Rasagna\\Downloads\\Brain CNN\\no\\no0.jpg')\n",
    "img = Image.fromarray(image)\n",
    "img = img.resize((128,128))\n",
    "img = np.array(img)\n",
    "print(img)"
   ]
  },
  {
   "cell_type": "code",
   "execution_count": 25,
   "id": "4a750c25",
   "metadata": {},
   "outputs": [
    {
     "name": "stdout",
     "output_type": "stream",
     "text": [
      "1/1 [==============================] - 0s 80ms/step\n",
      "No tumor\n"
     ]
    }
   ],
   "source": [
    "input_img = np.expand_dims(img, axis=0)\n",
    "res = model.predict(input_img)\n",
    "if(res==[[0.]]):\n",
    "    print(\"No tumor\")\n",
    "else:\n",
    "    print(\"Tumor Detected\")"
   ]
  },
  {
   "cell_type": "code",
   "execution_count": 26,
   "id": "5db975cd",
   "metadata": {},
   "outputs": [
    {
     "name": "stdout",
     "output_type": "stream",
     "text": [
      "[[[90 90 90]\n",
      "  [77 77 77]\n",
      "  [78 78 78]\n",
      "  ...\n",
      "  [26 26 26]\n",
      "  [30 30 30]\n",
      "  [28 28 28]]\n",
      "\n",
      " [[ 0  0  0]\n",
      "  [ 0  0  0]\n",
      "  [ 0  0  0]\n",
      "  ...\n",
      "  [45 45 45]\n",
      "  [30 30 30]\n",
      "  [27 27 27]]\n",
      "\n",
      " [[ 1  1  1]\n",
      "  [ 1  1  1]\n",
      "  [ 2  2  2]\n",
      "  ...\n",
      "  [40 40 40]\n",
      "  [28 28 28]\n",
      "  [27 27 27]]\n",
      "\n",
      " ...\n",
      "\n",
      " [[ 0  0  0]\n",
      "  [ 0  0  0]\n",
      "  [ 0  0  0]\n",
      "  ...\n",
      "  [40 40 40]\n",
      "  [28 28 28]\n",
      "  [28 28 28]]\n",
      "\n",
      " [[ 0  0  0]\n",
      "  [ 0  0  0]\n",
      "  [ 0  0  0]\n",
      "  ...\n",
      "  [39 39 39]\n",
      "  [28 28 28]\n",
      "  [28 28 28]]\n",
      "\n",
      " [[ 0  0  0]\n",
      "  [ 0  0  0]\n",
      "  [ 0  0  0]\n",
      "  ...\n",
      "  [34 34 34]\n",
      "  [31 31 31]\n",
      "  [30 30 30]]]\n"
     ]
    }
   ],
   "source": [
    "image = cv2.imread(r\"C:\\Users\\Rasagna\\Downloads\\Brain CNN\\yes\\y982.jpg\")\n",
    "img = Image.fromarray(image)\n",
    "img = img.resize((128,128))\n",
    "img = np.array(img)\n",
    "print(img)"
   ]
  },
  {
   "cell_type": "code",
   "execution_count": 27,
   "id": "9cef8b14",
   "metadata": {},
   "outputs": [
    {
     "name": "stdout",
     "output_type": "stream",
     "text": [
      "1/1 [==============================] - 0s 80ms/step\n",
      "Tumor Detected\n"
     ]
    }
   ],
   "source": [
    "input_img = np.expand_dims(img, axis=0)\n",
    "res = model.predict(input_img)\n",
    "if(res==[[0.]]):\n",
    "    print(\"No tumor\")\n",
    "else:\n",
    "    print(\"Tumor Detected\")"
   ]
  },
  {
   "cell_type": "code",
   "execution_count": null,
   "id": "58a56230",
   "metadata": {},
   "outputs": [],
   "source": []
  }
 ],
 "metadata": {
  "kernelspec": {
   "display_name": "Python 3 (ipykernel)",
   "language": "python",
   "name": "python3"
  },
  "language_info": {
   "codemirror_mode": {
    "name": "ipython",
    "version": 3
   },
   "file_extension": ".py",
   "mimetype": "text/x-python",
   "name": "python",
   "nbconvert_exporter": "python",
   "pygments_lexer": "ipython3",
   "version": "3.10.9"
  }
 },
 "nbformat": 4,
 "nbformat_minor": 5
}
